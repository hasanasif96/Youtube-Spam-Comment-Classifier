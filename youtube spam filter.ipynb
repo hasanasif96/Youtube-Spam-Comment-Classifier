{
 "cells": [
  {
   "cell_type": "code",
   "execution_count": 2,
   "metadata": {},
   "outputs": [],
   "source": [
    "import pandas as pd\n",
    "df1=pd.read_csv(\"C:\\\\Users\\\\Hasan\\\\Downloads\\\\datasets_141926_333383_Youtube01-Psy.csv\")\n",
    "df2=pd.read_csv(\"C:\\\\Users\\\\Hasan\\\\Downloads\\\\datasets_141926_333383_Youtube02-KatyPerry.csv\")\n",
    "df3=pd.read_csv(\"C:\\\\Users\\\\Hasan\\\\Downloads\\\\datasets_141926_333383_Youtube03-LMFAO.csv\")\n",
    "df4=pd.read_csv(\"C:\\\\Users\\\\Hasan\\\\Downloads\\\\datasets_141926_333383_Youtube04-Eminem.csv\")\n",
    "df5=pd.read_csv(\"C:\\\\Users\\\\Hasan\\\\Downloads\\\\datasets_141926_333383_Youtube05-Shakira.csv\")"
   ]
  },
  {
   "cell_type": "code",
   "execution_count": null,
   "metadata": {},
   "outputs": [],
   "source": [
    "print(df1.shape)\n",
    "print(df2.shape)\n",
    "print(df3.shape)\n",
    "print(df4.shape)\n",
    "print(df5.shape)"
   ]
  },
  {
   "cell_type": "code",
   "execution_count": 3,
   "metadata": {},
   "outputs": [
    {
     "data": {
      "text/plain": [
       "(1956, 5)"
      ]
     },
     "execution_count": 3,
     "metadata": {},
     "output_type": "execute_result"
    }
   ],
   "source": [
    "df=pd.concat([df1,df2,df3,df4,df5],ignore_index=True) \n",
    "df.shape"
   ]
  },
  {
   "cell_type": "code",
   "execution_count": 88,
   "metadata": {},
   "outputs": [
    {
     "data": {
      "text/plain": [
       "1    1005\n",
       "0     951\n",
       "Name: CLASS, dtype: int64"
      ]
     },
     "execution_count": 88,
     "metadata": {},
     "output_type": "execute_result"
    }
   ],
   "source": [
    "df.CLASS.value_counts() #to check if dataset is balanced or not"
   ]
  },
  {
   "cell_type": "code",
   "execution_count": 93,
   "metadata": {},
   "outputs": [
    {
     "data": {
      "text/plain": [
       "CONTENT      0\n",
       "CLASS        0\n",
       "len          0\n",
       "words        0\n",
       "processed    0\n",
       "dtype: int64"
      ]
     },
     "execution_count": 93,
     "metadata": {},
     "output_type": "execute_result"
    }
   ],
   "source": [
    "df.isnull().sum()"
   ]
  },
  {
   "cell_type": "code",
   "execution_count": 4,
   "metadata": {},
   "outputs": [
    {
     "data": {
      "text/plain": [
       "Index(['CONTENT', 'CLASS'], dtype='object')"
      ]
     },
     "execution_count": 4,
     "metadata": {},
     "output_type": "execute_result"
    }
   ],
   "source": [
    "df.drop(['COMMENT_ID', 'AUTHOR', 'DATE'], inplace=True, axis=1)\n",
    "df.columns"
   ]
  },
  {
   "cell_type": "code",
   "execution_count": 96,
   "metadata": {},
   "outputs": [
    {
     "data": {
      "image/png": "[encoded data removed]",
      "text/plain": [
       "<Figure size 432x288 with 1 Axes>"
      ]
     },
     "metadata": {
      "needs_background": "light"
     },
     "output_type": "display_data"
    }
   ],
   "source": [
    "#Displaying the average length of spam and not-spam sentence\n",
    "\n",
    "import matplotlib.pyplot as plt\n",
    "\n",
    "df[\"len\"]=[len(x) for x in df.CONTENT]\n",
    "plt.hist(df.len)\n",
    "plt.ylabel(\"number of Comment\")\n",
    "plt.xlabel(\"length of Comment\")\n",
    "plt.show()"
   ]
  },
  {
   "cell_type": "code",
   "execution_count": 94,
   "metadata": {},
   "outputs": [
    {
     "data": {
      "text/plain": [
       "94.70092024539878"
      ]
     },
     "execution_count": 94,
     "metadata": {},
     "output_type": "execute_result"
    }
   ],
   "source": [
    "df.len.mean() # finding average length of comment"
   ]
  },
  {
   "cell_type": "markdown",
   "metadata": {},
   "source": [
    "so, the mean length of comment is 95 word."
   ]
  },
  {
   "cell_type": "code",
   "execution_count": 98,
   "metadata": {},
   "outputs": [
    {
     "data": {
      "text/plain": [
       "1    375\n",
       "0    102\n",
       "Name: CLASS, dtype: int64"
      ]
     },
     "execution_count": 98,
     "metadata": {},
     "output_type": "execute_result"
    }
   ],
   "source": [
    "a=df[df.len>100] \n",
    "a.CLASS.value_counts()"
   ]
  },
  {
   "cell_type": "markdown",
   "metadata": {},
   "source": [
    "Comment whose length greater than 100 are mostly spam comment."
   ]
  },
  {
   "cell_type": "code",
   "execution_count": 99,
   "metadata": {},
   "outputs": [
    {
     "data": {
      "text/plain": [
       "<matplotlib.axes._subplots.AxesSubplot at 0x1d6df0eb0f0>"
      ]
     },
     "execution_count": 99,
     "metadata": {},
     "output_type": "execute_result"
    },
    {
     "data": {
      "image/png": "[encoded data removed]",
      "text/plain": [
       "<Figure size 432x288 with 1 Axes>"
      ]
     },
     "metadata": {
      "needs_background": "light"
     },
     "output_type": "display_data"
    }
   ],
   "source": [
    "import seaborn as sns\n",
    "sns.scatterplot(x=df.len,hue=df.CLASS,y=df.CLASS)"
   ]
  },
  {
   "cell_type": "code",
   "execution_count": 100,
   "metadata": {},
   "outputs": [
    {
     "data": {
      "text/plain": [
       "CLASS\n",
       "0     49.644585\n",
       "1    137.336318\n",
       "Name: len, dtype: float64"
      ]
     },
     "execution_count": 100,
     "metadata": {},
     "output_type": "execute_result"
    }
   ],
   "source": [
    "df.groupby([\"CLASS\"])[\"len\"].mean() # finding average length of spam and not-spam sentence"
   ]
  },
  {
   "cell_type": "markdown",
   "metadata": {},
   "source": [
    "Above cell tells us that mean length of spam comment is quite greater than not spam-comment."
   ]
  },
  {
   "cell_type": "markdown",
   "metadata": {},
   "source": [
    "# Let's do some Text-preprocessing and Training"
   ]
  },
  {
   "cell_type": "code",
   "execution_count": 6,
   "metadata": {},
   "outputs": [],
   "source": [
    "from nltk.tokenize import word_tokenize\n",
    "from nltk.corpus import stopwords\n",
    "\n",
    "import numpy as np \n",
    "import nltk\n",
    "import re\n",
    "\n",
    "df['words'] = [re.sub(r'\\W+',' ', x) for x in df['CONTENT']] # Replacing all non alpha-nmeric character\n",
    "df['words'] = [nltk.word_tokenize(x) for x in df[\"words\"]]# tokenizing each sentence\n"
   ]
  },
  {
   "cell_type": "code",
   "execution_count": 7,
   "metadata": {},
   "outputs": [],
   "source": [
    "stops = set(stopwords.words(\"english\"))                  \n",
    "\n",
    "def remove_stopword(row):\n",
    "    my_list = row['words']\n",
    "    meaningful_words = [w for w in my_list if not w in stops]\n",
    "    return (meaningful_words)\n",
    "\n",
    "df['words'] = df.apply(remove_stopword, axis=1)\n"
   ]
  },
  {
   "cell_type": "code",
   "execution_count": 8,
   "metadata": {},
   "outputs": [],
   "source": [
    "df['text']=[ \" \".join(i) for i in df['words']]\n"
   ]
  },
  {
   "cell_type": "code",
   "execution_count": 9,
   "metadata": {},
   "outputs": [
    {
     "name": "stdout",
     "output_type": "stream",
     "text": [
      "(1956,)\n",
      "(1956,)\n"
     ]
    }
   ],
   "source": [
    "X = df['text']\n",
    "y = df['CLASS']\n",
    "print(X.shape)\n",
    "print(y.shape)"
   ]
  },
  {
   "cell_type": "code",
   "execution_count": 10,
   "metadata": {},
   "outputs": [
    {
     "name": "stdout",
     "output_type": "stream",
     "text": [
      "(1467,)\n",
      "(489,)\n"
     ]
    }
   ],
   "source": [
    "from sklearn.model_selection import train_test_split\n",
    "\n",
    "X_train, X_test, y_train, y_test = train_test_split(X, y, test_size = 0.25, random_state = 1)\n",
    "\n",
    "print(X_train.shape)\n",
    "print(X_test.shape)"
   ]
  },
  {
   "cell_type": "code",
   "execution_count": 11,
   "metadata": {},
   "outputs": [],
   "source": [
    "from sklearn.feature_extraction.text import CountVectorizer\n",
    "vect = CountVectorizer(ngram_range=(1,3))\n",
    "\n",
    "X_train_dtm = vect.fit_transform(X_train)\n",
    "\n",
    "X_test_dtm = vect.transform(X_test)"
   ]
  },
  {
   "cell_type": "markdown",
   "metadata": {},
   "source": [
    "# Searching for the best model"
   ]
  },
  {
   "cell_type": "code",
   "execution_count": 78,
   "metadata": {},
   "outputs": [],
   "source": [
    "from sklearn.linear_model import LogisticRegression\n",
    "from sklearn.tree import DecisionTreeClassifier\n",
    "from sklearn.metrics import accuracy_score, confusion_matrix\n",
    "from sklearn.ensemble import AdaBoostClassifier\n",
    "from sklearn.naive_bayes import MultinomialNB\n",
    "from sklearn.ensemble import RandomForestClassifier\n",
    "from sklearn import svm\n",
    "import numpy as np\n",
    "from sklearn.metrics import roc_auc_score, accuracy_score, confusion_matrix\n",
    "from sklearn.metrics import f1_score\n"
   ]
  },
  {
   "cell_type": "code",
   "execution_count": 103,
   "metadata": {},
   "outputs": [],
   "source": [
    "def best_model(x,y):\n",
    "    models=[['Decision Tree classifier :',DecisionTreeClassifier()],\n",
    "           ['Linear classifier :',LogisticRegression()],\n",
    "           ['Random Forest classifier :',RandomForestClassifier()],\n",
    "           ['SVM classifier :',svm.SVC(kernel='linear')],\n",
    "           ['naive-bayes :', MultinomialNB()],\n",
    "           ['AdaBoostClassifier : ', AdaBoostClassifier()]]\n",
    "\n",
    "    print(\"Different Model accuracy\")\n",
    "    print(\"\\n\")\n",
    "    for name,model in models:\n",
    "        model=model\n",
    "        model.fit(X_train_dtm,y_train)\n",
    "        predictions = model.predict(X_test_dtm)\n",
    "        acc=accuracy_score(y_test, predictions)\n",
    "        score = f1_score(predictions, y_test)\n",
    "        print(\"accuracy\"+\" of \"+ name, acc)\n",
    "        print(\"F1-score\"+\" of \"+ name, score)\n",
    "        print(confusion_matrix(y_test,predictions))\n",
    "        \n",
    "        print(\"\\n\")"
   ]
  },
  {
   "cell_type": "markdown",
   "metadata": {},
   "source": [
    "Our dataset is balanced so we will focus on accuracy score for selecting best model, for imbalanced dataset we will depend more on Precesion, Recall and F1-score."
   ]
  },
  {
   "cell_type": "code",
   "execution_count": 104,
   "metadata": {},
   "outputs": [
    {
     "name": "stdout",
     "output_type": "stream",
     "text": [
      "Different Model accuracy\n",
      "\n",
      "\n",
      "accuracy of Decision Tree classifier : 0.9406952965235174\n",
      "F1-score of Decision Tree classifier : 0.9430255402750491\n",
      "[[220   9]\n",
      " [ 20 240]]\n",
      "\n",
      "\n",
      "accuracy of Linear classifier : 0.9222903885480572\n",
      "F1-score of Linear classifier : 0.9224489795918367\n",
      "[[225   4]\n",
      " [ 34 226]]\n",
      "\n",
      "\n",
      "accuracy of Random Forest classifier : 0.9284253578732107\n",
      "F1-score of Random Forest classifier : 0.9284253578732106\n",
      "[[227   2]\n",
      " [ 33 227]]\n",
      "\n",
      "\n",
      "accuracy of SVM classifier : 0.9366053169734151\n",
      "F1-score of SVM classifier : 0.93812375249501\n",
      "[[223   6]\n",
      " [ 25 235]]\n",
      "\n",
      "\n",
      "accuracy of naive-bayes : 0.8957055214723927\n",
      "F1-score of naive-bayes : 0.9050279329608939\n",
      "[[195  34]\n",
      " [ 17 243]]\n",
      "\n",
      "\n",
      "accuracy of AdaBoostClassifier :  0.9243353783231084\n",
      "F1-score of AdaBoostClassifier :  0.9252525252525252\n",
      "[[223   6]\n",
      " [ 31 229]]\n",
      "\n",
      "\n"
     ]
    }
   ],
   "source": [
    "best_model(X_train_dtm,y_train)"
   ]
  },
  {
   "cell_type": "markdown",
   "metadata": {},
   "source": [
    "Decision Tree classifier, SVM classifier and Random Forest classifier comes out to be the best model in this case. we will select  Random Forest classifier as our model because of Accuracy and FalsePositive(FP).Now lets find the best parameter of Random Forest classifier"
   ]
  },
  {
   "cell_type": "markdown",
   "metadata": {},
   "source": [
    "# Hyper parameter tuning"
   ]
  },
  {
   "cell_type": "code",
   "execution_count": 87,
   "metadata": {},
   "outputs": [
    {
     "data": {
      "text/plain": [
       "GridSearchCV(cv=5, error_score='raise',\n",
       "       estimator=RandomForestClassifier(bootstrap=True, class_weight=None, criterion='gini',\n",
       "            max_depth=None, max_features='auto', max_leaf_nodes=None,\n",
       "            min_impurity_decrease=0.0, min_impurity_split=None,\n",
       "            min_samples_leaf=1, min_samples_split=2,\n",
       "            min_weight_fraction_leaf=0.0, n_estimators=10, n_jobs=1,\n",
       "            oob_score=False, random_state=None, verbose=0,\n",
       "            warm_start=False),\n",
       "       fit_params=None, iid=True, n_jobs=1,\n",
       "       param_grid={'n_estimators': [2, 5, 10, 20, 50, 100, 200], 'max_depth': [10, 20, 50, 80, 100], 'min_samples_leaf': [2, 4, 8, 12], 'max_features': ['auto', 'sqrt'], 'min_samples_split': [2, 5, 10, 20, 50]},\n",
       "       pre_dispatch='2*n_jobs', refit=True, return_train_score='warn',\n",
       "       scoring='accuracy', verbose=0)"
      ]
     },
     "execution_count": 87,
     "metadata": {},
     "output_type": "execute_result"
    }
   ],
   "source": [
    "from sklearn.model_selection import GridSearchCV, cross_val_score\n",
    "classifier=RandomForestClassifier()\n",
    "parameter={\"n_estimators\" : [2,5,10,20,50,100,200],\n",
    "            \"max_depth\" : [10, 20, 50, 80, 100],\n",
    "            \"min_samples_leaf\": [2, 4,8,12],\n",
    "            \"max_features\" : ['auto', 'sqrt'],\n",
    "            \"min_samples_split\" : [2, 5, 10,20,50]}\n",
    "grid = GridSearchCV(classifier, param_grid=parameter, cv=5, scoring='accuracy')\n",
    "grid.fit(X_train_dtm,y_train)"
   ]
  },
  {
   "cell_type": "code",
   "execution_count": 89,
   "metadata": {},
   "outputs": [
    {
     "name": "stdout",
     "output_type": "stream",
     "text": [
      "0.9277436946148603\n",
      "{'max_depth': 80, 'max_features': 'sqrt', 'min_samples_leaf': 2, 'min_samples_split': 20, 'n_estimators': 100}\n",
      "RandomForestClassifier(bootstrap=True, class_weight=None, criterion='gini',\n",
      "            max_depth=80, max_features='sqrt', max_leaf_nodes=None,\n",
      "            min_impurity_decrease=0.0, min_impurity_split=None,\n",
      "            min_samples_leaf=2, min_samples_split=20,\n",
      "            min_weight_fraction_leaf=0.0, n_estimators=100, n_jobs=1,\n",
      "            oob_score=False, random_state=None, verbose=0,\n",
      "            warm_start=False)\n"
     ]
    }
   ],
   "source": [
    "print(grid.best_score_)\n",
    "print(grid.best_params_)\n",
    "print(grid.best_estimator_)"
   ]
  },
  {
   "cell_type": "markdown",
   "metadata": {},
   "source": [
    "# Now building the model with best parameter"
   ]
  },
  {
   "cell_type": "code",
   "execution_count": 102,
   "metadata": {},
   "outputs": [
    {
     "data": {
      "text/plain": [
       "array([1], dtype=int64)"
      ]
     },
     "execution_count": 102,
     "metadata": {},
     "output_type": "execute_result"
    }
   ],
   "source": [
    "classifier=RandomForestClassifier()\n",
    "classifier.fit(X_train_dtm,y_train)\n",
    "simple_test=[\"like for like and share for share\"]\n",
    "simple_test_dtm = vect.transform(simple_test)\n",
    "classifier.predict(simple_test_dtm.toarray())"
   ]
  },
  {
   "cell_type": "code",
   "execution_count": 91,
   "metadata": {},
   "outputs": [
    {
     "data": {
      "text/plain": [
       "<matplotlib.axes._subplots.AxesSubplot at 0x1d6df11b278>"
      ]
     },
     "execution_count": 91,
     "metadata": {},
     "output_type": "execute_result"
    },
    {
     "data": {
      "image/png": "[encoded data removed]",
      "text/plain": [
       "<Figure size 720x504 with 2 Axes>"
      ]
     },
     "metadata": {
      "needs_background": "light"
     },
     "output_type": "display_data"
    }
   ],
   "source": [
    "import matplotlib.pyplot as plt\n",
    "y_predict=classifier.predict(X_test_dtm)\n",
    "from sklearn.metrics import confusion_matrix\n",
    "cm=confusion_matrix(y_test,y_predict)\n",
    "import seaborn as sn\n",
    "plt.figure(figsize=(10,7))\n",
    "sn.heatmap(cm,annot=True)"
   ]
  },
  {
   "cell_type": "code",
   "execution_count": null,
   "metadata": {},
   "outputs": [],
   "source": []
  },
  {
   "cell_type": "code",
   "execution_count": null,
   "metadata": {},
   "outputs": [],
   "source": []
  }
 ],
 "metadata": {
  "kernelspec": {
   "display_name": "Python 3",
   "language": "python",
   "name": "python3"
  },
  "language_info": {
   "codemirror_mode": {
    "name": "ipython",
    "version": 3
   },
   "file_extension": ".py",
   "mimetype": "text/x-python",
   "name": "python",
   "nbconvert_exporter": "python",
   "pygments_lexer": "ipython3",
   "version": "3.7.0"
  }
 },
 "nbformat": 4,
 "nbformat_minor": 2
}
